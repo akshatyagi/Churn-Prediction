{
 "cells": [
  {
   "cell_type": "code",
   "execution_count": 100,
   "metadata": {},
   "outputs": [],
   "source": [
    "import numpy as np\n",
    "import matplotlib.pyplot as plot\n",
    "import pandas as pd\n",
    "from sklearn import datasets, linear_model, preprocessing, svm, tree\n",
    "from sklearn.metrics import mean_squared_error, r2_score, accuracy_score\n",
    "from sklearn.ensemble import ExtraTreesClassifier\n",
    "from sklearn.feature_selection import SelectFromModel\n",
    "from sklearn.model_selection import train_test_split\n",
    "from sklearn.linear_model import Ridge, LogisticRegression\n",
    "from sklearn.grid_search import GridSearchCV\n",
    "from sklearn.tree import DecisionTreeClassifier\n",
    "from sklearn.preprocessing import LabelEncoder\n",
    "\n",
    "#Reading the data\n",
    "training_data = pd.read_csv('train.csv')\n",
    "Xtest = pd.read_csv('test.csv')\n",
    "\n",
    "#le = LabelEncoder()\n",
    "#encoded_series = df[df.columns[:]].apply(le.fit_transform)\n",
    "#training_data = \n",
    "#Setting the data\n",
    "training_data.dropna(how='any', inplace=True)\n",
    "training_data.COLLEGE = training_data.COLLEGE.replace({\"zero\":\"0\", \"one\":\"1\"})\n",
    "training_data = pd.concat([training_data, pd.get_dummies(training_data.REPORTED_SATISFACTION)], axis=1)\n",
    "training_data = pd.concat([training_data, pd.get_dummies(training_data.REPORTED_USAGE_LEVEL)], axis=1)\n",
    "training_data = pd.concat([training_data, pd.get_dummies(training_data.CONSIDERING_CHANGE_OF_PLAN)],axis = 1)\n",
    "training_data.drop(['REPORTED_SATISFACTION', 'REPORTED_USAGE_LEVEL','CONSIDERING_CHANGE_OF_PLAN'], axis=1, inplace=True)\n",
    "\n",
    "Xtest.dropna(how='any', inplace=True)\n",
    "Xtest.COLLEGE = Xtest.COLLEGE.replace({\"zero\":\"0\", \"one\":\"1\"})\n",
    "Xtest = pd.concat([Xtest, pd.get_dummies(Xtest.REPORTED_SATISFACTION)], axis=1)\n",
    "Xtest = pd.concat([Xtest, pd.get_dummies(Xtest.REPORTED_USAGE_LEVEL)], axis=1)\n",
    "Xtest = pd.concat([Xtest, pd.get_dummies(Xtest.CONSIDERING_CHANGE_OF_PLAN)],axis = 1)\n",
    "Xtest.drop(['REPORTED_SATISFACTION', 'REPORTED_USAGE_LEVEL','CONSIDERING_CHANGE_OF_PLAN'], axis=1, inplace=True)\n",
    "\n",
    "X = training_data.loc[:, training_data.columns != 'LEAVE']\n",
    "#X = preprocessing.robust_scale(X)\n",
    "#Xtest = preprocessing.robust_scale(Xtest)\n",
    "Y = training_data.loc[:, training_data.columns == 'LEAVE']\n",
    "\n",
    "X_orig, X_new, Y_orig, Y_new = train_test_split(X, Y, test_size=0.1, random_state=10)\n",
    "fitting_dt = tree.DecisionTreeClassifier(max_depth=7,min_samples_leaf=199, min_samples_split=350,criterion='entropy')\n",
    "\n",
    "#print(result.feature_importances_)\n",
    "fitting_dt.fit(X, Y.values.ravel())\n",
    "prediction = fitting_dt.predict(Xtest)\n",
    "#accuracy_score(Y_new, prediction)\n",
    "\n",
    "#PUTTING THE DATA IN THE CSV FILE\n",
    "ids = pd.Series(range(0,2000))\n",
    "result = pd.DataFrame({'ID':ids,'LEAVE':prediction})\n",
    "#result.head(5)\n",
    "result.to_csv('output_dt.csv', index=False)\n",
    "\n",
    "\n"
   ]
  },
  {
   "cell_type": "code",
   "execution_count": null,
   "metadata": {
    "collapsed": true
   },
   "outputs": [],
   "source": []
  },
  {
   "cell_type": "code",
   "execution_count": null,
   "metadata": {
    "collapsed": true
   },
   "outputs": [],
   "source": []
  },
  {
   "cell_type": "code",
   "execution_count": null,
   "metadata": {
    "collapsed": true
   },
   "outputs": [],
   "source": []
  }
 ],
 "metadata": {
  "kernelspec": {
   "display_name": "Python 3",
   "language": "python",
   "name": "python3"
  },
  "language_info": {
   "codemirror_mode": {
    "name": "ipython",
    "version": 3
   },
   "file_extension": ".py",
   "mimetype": "text/x-python",
   "name": "python",
   "nbconvert_exporter": "python",
   "pygments_lexer": "ipython3",
   "version": "3.6.3"
  }
 },
 "nbformat": 4,
 "nbformat_minor": 2
}
